{
 "cells": [
  {
   "cell_type": "markdown",
   "metadata": {},
   "source": [
    "### new approche to hand the preprocessing "
   ]
  },
  {
   "cell_type": "code",
   "execution_count": 2,
   "metadata": {},
   "outputs": [],
   "source": [
    "import pandas as pd\n",
    "from sklearn.model_selection import train_test_split\n",
    "from sklearn.preprocessing import LabelEncoder\n",
    "from imblearn.over_sampling import SMOTE\n",
    "from sklearn.linear_model import LogisticRegression\n",
    "from sklearn.metrics import accuracy_score\n",
    "\n",
    "class DataPreprocessor:\n",
    "    def __init__(self):\n",
    "        self.encoders = {\n",
    "            'Goal': LabelEncoder(),\n",
    "            'Category': LabelEncoder(),\n",
    "            'BodyPart': LabelEncoder(),\n",
    "            'Level': LabelEncoder()\n",
    "        }\n",
    "        self.smote = SMOTE(random_state=42)\n",
    "\n",
    "    def fit(self, X):\n",
    "        # Fit the LabelEncoders\n",
    "        for column, encoder in self.encoders.items():\n",
    "            encoder.fit(X[column])\n",
    "\n",
    "    def transform(self, X):\n",
    "        # Apply encoding\n",
    "        for column, encoder in self.encoders.items():\n",
    "            X[column + '_encoded'] = encoder.transform(X[column])\n",
    "        return X[[col + '_encoded' for col in self.encoders]]\n",
    "\n",
    "    def fit_resample(self, X, y):\n",
    "        # Fit and transform, then apply SMOTE\n",
    "        X_encoded = self.transform(X)\n",
    "        X_resampled, y_resampled = self.smote.fit_resample(X_encoded, y)\n",
    "        return X_resampled, y_resampled\n",
    "\n",
    "    def save(self, filename='preprocessor.pkl'):\n",
    "        # Save the preprocessor object\n",
    "        with open(filename, 'wb') as f:\n",
    "            pickle.dump(self, f)\n",
    "\n",
    "    @staticmethod\n",
    "    def load(filename='preprocessor.pkl'):\n",
    "        # Load a preprocessor object\n",
    "        with open(filename, 'rb') as f:\n",
    "            return pickle.load(f)\n"
   ]
  },
  {
   "cell_type": "markdown",
   "metadata": {},
   "source": [
    "## Step 2: Use the Preprocessing Class in Training"
   ]
  },
  {
   "cell_type": "code",
   "execution_count": 4,
   "metadata": {},
   "outputs": [
    {
     "name": "stderr",
     "output_type": "stream",
     "text": [
      "c:\\Users\\administrateur\\Anaconda3\\lib\\site-packages\\sklearn\\linear_model\\_logistic.py:814: ConvergenceWarning: lbfgs failed to converge (status=1):\n",
      "STOP: TOTAL NO. of ITERATIONS REACHED LIMIT.\n",
      "\n",
      "Increase the number of iterations (max_iter) or scale the data as shown in:\n",
      "    https://scikit-learn.org/stable/modules/preprocessing.html\n",
      "Please also refer to the documentation for alternative solver options:\n",
      "    https://scikit-learn.org/stable/modules/linear_model.html#logistic-regression\n",
      "  n_iter_i = _check_optimize_result(\n"
     ]
    }
   ],
   "source": [
    "\n",
    "from flask import Flask, request, jsonify\n",
    "import joblib\n",
    "\n",
    "# Load the data\n",
    "data = pd.read_csv('workouts_subset.csv')\n",
    "\n",
    "# Initialize and fit the preprocessor\n",
    "preprocessor = DataPreprocessor()\n",
    "preprocessor.fit(data)\n",
    "\n",
    "# Encode and balance data\n",
    "X, y = data.drop('Workout', axis=1), data['Workout']\n",
    "X_resampled, y_resampled = preprocessor.fit_resample(X, y)\n",
    "\n",
    "# Spliting the data\n",
    "X_train, X_test, y_train, y_test = train_test_split(X_resampled, y_resampled, test_size=0.2, random_state=42)\n",
    "\n",
    "# Training the model\n",
    "model = LogisticRegression(random_state=42)\n",
    "model.fit(X_train, y_train)\n",
    "\n",
    "# Save model and preprocessor\n",
    "joblib.dump(model, 'model_work.pkl')\n",
    "preprocessor.save()\n"
   ]
  },
  {
   "cell_type": "markdown",
   "metadata": {},
   "source": [
    "## Step 3:  Flask API to Use the Preprocessor"
   ]
  },
  {
   "cell_type": "code",
   "execution_count": 7,
   "metadata": {},
   "outputs": [],
   "source": [
    "import traceback"
   ]
  },
  {
   "cell_type": "code",
   "execution_count": 16,
   "metadata": {},
   "outputs": [
    {
     "name": "stdout",
     "output_type": "stream",
     "text": [
      " * Serving Flask app \"__main__\" (lazy loading)\n",
      " * Environment: production\n",
      "\u001b[31m   WARNING: This is a development server. Do not use it in a production deployment.\u001b[0m\n",
      "\u001b[2m   Use a production WSGI server instead.\u001b[0m\n",
      " * Debug mode: off\n"
     ]
    },
    {
     "name": "stderr",
     "output_type": "stream",
     "text": [
      " * Running on http://127.0.0.1:5000/ (Press CTRL+C to quit)\n"
     ]
    }
   ],
   "source": [
    "from flask import Flask, request, jsonify\n",
    "import pandas as pd\n",
    "import joblib\n",
    "\n",
    "# Load the model and preprocessor\n",
    "model = joblib.load('model_work.pkl')\n",
    "preprocessor = joblib.load('preprocessor.pkl')\n",
    "\n",
    "app = Flask(__name__)\n",
    "\n",
    "@app.route('/predict', methods=['POST'])\n",
    "def predict():\n",
    "    try:\n",
    "        json_data = request.get_json()\n",
    "        df = pd.DataFrame([json_data])\n",
    "        # Preprocess the data using the loaded preprocessor\n",
    "        df_preprocessed = preprocessor.transform(df)\n",
    "        # Predict using the loaded model\n",
    "        prediction = model.predict(df_preprocessed)\n",
    "        # Convert prediction to response, possibly decoding labels\n",
    "        response = {'prediction': prediction.tolist()}\n",
    "        return jsonify(response)\n",
    "    except Exception as e:\n",
    "        print(\"Error during prediction:\", str(e))\n",
    "        return jsonify({'error': str(e)})\n",
    "\n",
    "if __name__ == '__main__':\n",
    "    try:\n",
    "        app.run(debug=False, use_reloader=False)\n",
    "    except Exception as e:\n",
    "        print(\"Caught an exception in Flask app:\", e)\n",
    "        traceback.print_exc()\n"
   ]
  },
  {
   "cell_type": "code",
   "execution_count": 19,
   "metadata": {},
   "outputs": [
    {
     "name": "stdout",
     "output_type": "stream",
     "text": [
      "Note: you may need to restart the kernel to use updated packages.\n"
     ]
    }
   ],
   "source": [
    "pip freeze > requirements.txt"
   ]
  },
  {
   "cell_type": "code",
   "execution_count": 20,
   "metadata": {},
   "outputs": [
    {
     "ename": "SyntaxError",
     "evalue": "invalid syntax (118272213.py, line 1)",
     "output_type": "error",
     "traceback": [
      "\u001b[1;36m  Cell \u001b[1;32mIn[20], line 1\u001b[1;36m\u001b[0m\n\u001b[1;33m    gunicorn New_piplineVF:app\u001b[0m\n\u001b[1;37m             ^\u001b[0m\n\u001b[1;31mSyntaxError\u001b[0m\u001b[1;31m:\u001b[0m invalid syntax\n"
     ]
    }
   ],
   "source": [
    "\n"
   ]
  }
 ],
 "metadata": {
  "kernelspec": {
   "display_name": "test_env",
   "language": "python",
   "name": "test_env"
  },
  "language_info": {
   "codemirror_mode": {
    "name": "ipython",
    "version": 3
   },
   "file_extension": ".py",
   "mimetype": "text/x-python",
   "name": "python",
   "nbconvert_exporter": "python",
   "pygments_lexer": "ipython3",
   "version": "3.9.12"
  }
 },
 "nbformat": 4,
 "nbformat_minor": 2
}
